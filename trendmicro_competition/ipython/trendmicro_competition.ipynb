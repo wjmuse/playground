{
 "cells": [
  {
   "cell_type": "code",
   "execution_count": 63,
   "metadata": {
    "collapsed": false
   },
   "outputs": [],
   "source": [
    "import numpy as np # linear algebra\n",
    "import pandas as pd # data processing, CSV file I/O (e.g. pd.read_csv)\n",
    "from sklearn.linear_model import LogisticRegression\n",
    "from sklearn.feature_extraction.text import CountVectorizer\n",
    "\n",
    "import zipfile, csv, json, math\n",
    "from sklearn.cluster import KMeans\n",
    "\n",
    "%matplotlib inline\n",
    "\n",
    "import matplotlib\n",
    "import matplotlib.pyplot as plt\n",
    "\n",
    "# Input data files are available in the \"./E8B6A8E58BA2E7A791E68A80E6A99FE599A8E5ADB8E7BF92E5B08FE68C91E688B0-input\" directory.\n",
    "# For example, running this (by clicking run or pressing Shift+Enter) will list the files in the input directory\n",
    "\n",
    "from subprocess import check_output\n",
    "\n",
    "# Any results you write to the current directory are saved as output."
   ]
  },
  {
   "cell_type": "code",
   "execution_count": 6,
   "metadata": {
    "collapsed": false
   },
   "outputs": [],
   "source": [
    "with open('PBP-pycon/PBP-train.csv', 'rb') as csvfile:\n",
    "    spamreader = csv.reader(csvfile, delimiter=' ', quotechar='|')"
   ]
  },
  {
   "cell_type": "code",
   "execution_count": 10,
   "metadata": {
    "collapsed": false
   },
   "outputs": [
    {
     "name": "stdout",
     "output_type": "stream",
     "text": [
      "   0      1      2  3  4    5      6   7   8\n",
      "0  K  T0655  TDC33  0  1  NaN  15:00  35   0\n",
      "1  R  T0655  TDC33  0  1  1.0  15:00  80  10\n",
      "2  P  T0655  TDC33  0  1  1.0  14:21  62  10\n",
      "3  R  T0655  TDC33  0  1  2.0  14:04  53   1\n",
      "4  P  T0655  TDC33  0  1  1.0  13:26  49  10\n"
     ]
    }
   ],
   "source": [
    "train_data = pd.read_csv('PBP-pycon/PBP-train.csv', header=None)\n",
    "print train_data.head(5)"
   ]
  },
  {
   "cell_type": "code",
   "execution_count": 11,
   "metadata": {
    "collapsed": false
   },
   "outputs": [
    {
     "name": "stdout",
     "output_type": "stream",
     "text": [
      "['K' 'R' 'P' 'R' 'P']\n",
      "[[ 0.  1. -1.]\n",
      " [ 0.  1.  1.]\n",
      " [ 0.  1.  1.]\n",
      " [ 0.  1.  2.]\n",
      " [ 0.  1.  1.]]\n"
     ]
    }
   ],
   "source": [
    "train_data.fillna(-1, inplace=True)\n",
    "Y=np.array(train_data[0])\n",
    "X=np.array(train_data.ix[:, 3:5])\n",
    "print(Y[:5])\n",
    "print(X[:5])"
   ]
  },
  {
   "cell_type": "code",
   "execution_count": 16,
   "metadata": {
    "collapsed": false
   },
   "outputs": [
    {
     "name": "stdout",
     "output_type": "stream",
     "text": [
      "0.616222017786\n"
     ]
    }
   ],
   "source": [
    "clf = LogisticRegression()\n",
    "clf = clf.fit(X, Y)\n",
    "print(clf.score(X,Y))"
   ]
  },
  {
   "cell_type": "code",
   "execution_count": 19,
   "metadata": {
    "collapsed": false
   },
   "outputs": [
    {
     "name": "stdout",
     "output_type": "stream",
     "text": [
      "   0      1      2   3  4    5      6   7   8\n",
      "0  -  T5E76  T6049   8  4  1.0   0:21  15  10\n",
      "1  -  T7A23  TCD89   7  4  NaN   2:01  35   0\n",
      "2  -  T2523  T94A9   0  1  4.0  12:02  81  11\n",
      "3  -  T79CB  TCE31  -6  4  3.0   0:15  39   3\n",
      "4  -  TDC33  T0655  11  3  1.0  11:17   1   1\n"
     ]
    }
   ],
   "source": [
    "test_data = pd.read_csv('PBP-pycon/PBP-test.csv', header=None)\n",
    "print test_data.head(5)"
   ]
  },
  {
   "cell_type": "code",
   "execution_count": 20,
   "metadata": {
    "collapsed": false
   },
   "outputs": [
    {
     "name": "stdout",
     "output_type": "stream",
     "text": [
      "[[  8.   4.   1.]\n",
      " [  7.   4.  -1.]\n",
      " [  0.   1.   4.]\n",
      " [ -6.   4.   3.]\n",
      " [ 11.   3.   1.]\n",
      " [  7.   2.   4.]\n",
      " [ -4.   2.   3.]\n",
      " [  0.   3.   2.]\n",
      " [ -2.   3.   3.]\n",
      " [  0.   1.   3.]]\n"
     ]
    }
   ],
   "source": [
    "test_data.fillna(-1, inplace=True)\n",
    "X=np.array(test_data.ix[:, 3:5])\n",
    "print(X)"
   ]
  },
  {
   "cell_type": "code",
   "execution_count": 21,
   "metadata": {
    "collapsed": false
   },
   "outputs": [
    {
     "name": "stdout",
     "output_type": "stream",
     "text": [
      "(0, 'P')\n",
      "(1, 'K')\n",
      "(2, 'PP')\n",
      "(3, 'P')\n",
      "(4, 'R')\n",
      "(5, 'PP')\n",
      "(6, 'P')\n",
      "(7, 'P')\n",
      "(8, 'P')\n",
      "(9, 'P')\n"
     ]
    }
   ],
   "source": [
    "for i, p in enumerate(clf.predict(X)):\n",
    "    print(i, p)"
   ]
  },
  {
   "cell_type": "code",
   "execution_count": null,
   "metadata": {
    "collapsed": true
   },
   "outputs": [],
   "source": []
  },
  {
   "cell_type": "code",
   "execution_count": null,
   "metadata": {
    "collapsed": true
   },
   "outputs": [],
   "source": []
  },
  {
   "cell_type": "code",
   "execution_count": null,
   "metadata": {
    "collapsed": true
   },
   "outputs": [],
   "source": []
  },
  {
   "cell_type": "code",
   "execution_count": null,
   "metadata": {
    "collapsed": true
   },
   "outputs": [],
   "source": []
  },
  {
   "cell_type": "code",
   "execution_count": 34,
   "metadata": {
    "collapsed": false
   },
   "outputs": [
    {
     "name": "stdout",
     "output_type": "stream",
     "text": [
      "TrendMicro-malware-dataset/00034ba766f8721f43999bbfa341969fac85fdfe/\n",
      "TrendMicro-malware-dataset/00034ba766f8721f43999bbfa341969fac85fdfe/sections\n",
      "TrendMicro-malware-dataset/00034ba766f8721f43999bbfa341969fac85fdfe/info\n",
      "TrendMicro-malware-dataset/00034ba766f8721f43999bbfa341969fac85fdfe/import\n"
     ]
    }
   ],
   "source": [
    "zf = zipfile.ZipFile('TrendMicro-malware-dataset-pycon.zip', 'r')\n",
    "for f in zf.namelist()[:4]:\n",
    "    print(f)"
   ]
  },
  {
   "cell_type": "code",
   "execution_count": 35,
   "metadata": {
    "collapsed": false
   },
   "outputs": [
    {
     "name": "stdout",
     "output_type": "stream",
     "text": [
      "TrendMicro-malware-dataset/00034ba766f8721f43999bbfa341969fac85fdfe/\n",
      "\n",
      "()\n",
      "TrendMicro-malware-dataset/00034ba766f8721f43999bbfa341969fac85fdfe/sections\n",
      "[{\"Index\": 0, \"Name\": \".text\\u0000\\u0000\\u0000\", \"Entropy\": 6.6889715264505378, \"VirtualSize\": 143009, \"Flags\": \"R-X CODE\", \"RawSize\": 143360, \"VirtualAddress\": \"0x1000\"}, {\"Index\": 1, \"Name\": \".rdata\\u0000\\u0000\", \"Entropy\": 4.5827597405217659, \"VirtualSize\": 38886, \"Flags\": \"R-- IDATA\", \"RawSize\": 38912, \"VirtualAddress\": \"0x24000\"}, {\"Index\": 2, \"Name\": \".data\\u0000\\u0000\\u0000\", \"Entropy\": 7.9721441134776718, \"VirtualSize\": 466408, \"Flags\": \"RW- IDATA\", \"RawSize\": 425472, \"VirtualAddress\": \"0x2e000\"}, {\"Index\": 3, \"Name\": \".rsrc\\u0000\\u0000\\u0000\", \"Entropy\": 4.0908414054759792, \"VirtualSize\": 19064, \"Flags\": \"R-- IDATA\", \"RawSize\": 19456, \"VirtualAddress\": \"0xa0000\"}, {\"Index\": 4, \"Name\": \".reloc\\u0000\\u0000\", \"Entropy\": 6.4183542620674388, \"VirtualSize\": 7296, \"Flags\": \"R-- IDATA\", \"RawSize\": 7680, \"VirtualAddress\": \"0xa5000\"}]\n",
      "()\n",
      "TrendMicro-malware-dataset/00034ba766f8721f43999bbfa341969fac85fdfe/info\n",
      "{\"DllCharacteristics\": \"0x8140\", \"TimeDateStamp\": 1437144778, \"BaseOfCode\": \"0x1000\", \"FileEntropy\": 7.6805237126987098, \"ImageVersion\": \"16.0\", \"LoaderFlags\": \"0x0\", \"SizeOfStackCommit\": 4096, \"SizeOfUninitializedData\": 0, \"SizeOfHeapReserve\": 1048576, \"LinkerVersion\": \"12.0\", \"SizeOfHeapCommit\": 4096, \"SizeOfStackReserve\": 1048576, \"OperatingSystemVersion\": \"5.1\", \"SizeOfHeaders\": 1024, \"Subsystem\": \"0x2\", \"NumberOfSections\": 5, \"FileAlignment\": \"0x200\", \"SubsystemVersion\": \"5.1\", \"BaseOfData\": \"0x24000\", \"SizeOfOptionalHeader\": 224, \"AddressOfEntryPoint\": \"0x11534\", \"SectionAlignment\": \"0x1000\", \"SizeOfCode\": 143360, \"CompanyName\": \"        \", \"ImageBase\": \"0x400000\", \"SizeOfInitializedData\": 491520, \"NumberOfSymbols\": 0, \"SizeOfImage\": 684032, \"NumberOfRvaAndSizes\": 16, \"FileSize\": 642768, \"Characteristics\": \"0x102\"}\n",
      "()\n",
      "TrendMicro-malware-dataset/00034ba766f8721f43999bbfa341969fac85fdfe/import\n",
      "KERNEL32.dll\tWideCharToMultiByte\n",
      "KERNEL32.dll\tlstrlenA\n",
      "KERNEL32.dll\tlstrcpynA\n",
      "KERNEL32.dll\tlstrcpynW\n",
      "KERNEL32.dll\tGetModuleFileNameW\n",
      "KERNEL32.dll\tlstrcatA\n",
      "KERNEL32.dll\tlstrlenW\n",
      "KERNEL32.dll\tlstrcatW\n",
      "KERNEL32.dll\tlstrcpyW\n",
      "KERNEL32.dll\tlstrcpyA\n",
      "KERNEL32.dll\tGetTickCount\n",
      "KERNEL32.dll\tGetSystemDirectoryW\n",
      "KERNEL32.dll\tCloseHandle\n",
      "KERNEL32.dll\tFlushFileBuffers\n",
      "KERNEL32.dll\tMultiByteToWideChar\n",
      "KERNEL32.dll\tGetStringTypeW\n",
      "KERNEL32.dll\tEnterCriticalSection\n",
      "KERNEL32.dll\tLeaveCriticalSection\n",
      "KERNEL32.dll\tDeleteCriticalSection\n",
      "KERNEL32.dll\tGetLastError\n",
      "KERNEL32.dll\tHeapFree\n",
      "KERNEL32.dll\tGetCPInfo\n",
      "KERNEL32.dll\tGetSystemTimeAsFileTime\n",
      "KERNEL32.dll\tHeapAlloc\n",
      "KERNEL32.dll\tGetCommandLineA\n",
      "KERNEL32.dll\tRaiseException\n",
      "KERNEL32.dll\tRtlUnwind\n",
      "KERNEL32.dll\tUnhandledExceptionFilter\n",
      "KERNEL32.dll\tSetUnhandledExceptionFilter\n",
      "KERNEL32.dll\tSetLastError\n",
      "KERNEL32.dll\tInitializeCriticalSectionAndSpinCount\n",
      "KERNEL32.dll\tSleep\n",
      "KERNEL32.dll\tGetCurrentProcess\n",
      "KERNEL32.dll\tTerminateProcess\n",
      "KERNEL32.dll\tTlsAlloc\n",
      "KERNEL32.dll\tTlsGetValue\n",
      "KERNEL32.dll\tTlsSetValue\n",
      "KERNEL32.dll\tTlsFree\n",
      "KERNEL32.dll\tGetStartupInfoW\n",
      "KERNEL32.dll\tGetModuleHandleW\n",
      "KERNEL32.dll\tGetProcAddress\n",
      "KERNEL32.dll\tLCMapStringW\n",
      "KERNEL32.dll\tGetLocaleInfoW\n",
      "KERNEL32.dll\tIsValidLocale\n",
      "KERNEL32.dll\tGetUserDefaultLCID\n",
      "KERNEL32.dll\tEnumSystemLocalesW\n",
      "KERNEL32.dll\tGetProcessHeap\n",
      "KERNEL32.dll\tGetCurrentThreadId\n",
      "KERNEL32.dll\tExitProcess\n",
      "KERNEL32.dll\tGetModuleHandleExW\n",
      "KERNEL32.dll\tHeapSize\n",
      "KERNEL32.dll\tIsValidCodePage\n",
      "KERNEL32.dll\tGetACP\n",
      "KERNEL32.dll\tGetOEMCP\n",
      "KERNEL32.dll\tGetStdHandle\n",
      "KERNEL32.dll\tGetFileType\n",
      "KERNEL32.dll\tGetModuleFileNameA\n",
      "KERNEL32.dll\tQueryPerformanceCounter\n",
      "KERNEL32.dll\tGetCurrentProcessId\n",
      "KERNEL32.dll\tGetEnvironmentStringsW\n",
      "KERNEL32.dll\tFreeEnvironmentStringsW\n",
      "KERNEL32.dll\tHeapReAlloc\n",
      "KERNEL32.dll\tGetConsoleCP\n",
      "KERNEL32.dll\tGetConsoleMode\n",
      "KERNEL32.dll\tSetFilePointerEx\n",
      "KERNEL32.dll\tSetStdHandle\n",
      "SHELL32.dll\tSHGetFolderPathW\n",
      "\n",
      "()\n"
     ]
    }
   ],
   "source": [
    "for f in zf.namelist()[:4]:\n",
    "    print(f)\n",
    "    data = zf.read(f).decode(\"utf8\")\n",
    "    print(data)\n",
    "    print()"
   ]
  },
  {
   "cell_type": "code",
   "execution_count": 49,
   "metadata": {
    "collapsed": false
   },
   "outputs": [
    {
     "name": "stdout",
     "output_type": "stream",
     "text": [
      "[(7.68052371269871, 13.373539129403458, 13.4357599791361, 11.873114228208758), (7.876824723013971, 11.058606190644545, 11.955352326445729, 9.534161491043838), (6.231757935069372, 13.521774195227245, 13.52177285379614, 13.285841846396803)]\n",
      "['00034ba766f8721f43999bbfa341969fac85fdfe', '00036d496f906107c2943b2f38fa9a65888c0e5f', '00141e38f00072e8854a8aeec7028456e54eb341']\n"
     ]
    }
   ],
   "source": [
    "feats=[]\n",
    "lbs=[]\n",
    "for f in zf.namelist():\n",
    "    if 'info' not in f: continue\n",
    "    data = zf.read(f)\n",
    "    j = json.loads(data.decode(\"utf-8\"))\n",
    "    \n",
    "    try: \n",
    "        feats.append((float(j['FileEntropy']), \\\n",
    "                      math.log(float(j['FileSize'])), \\\n",
    "                      math.log(float(j['SizeOfImage'])), \\\n",
    "                      math.log(float(j['SizeOfCode']))))\n",
    "    except: \n",
    "        continue\n",
    "    lbs.append(f.split('/')[1])\n",
    "print(feats[:3])\n",
    "print(lbs[:3])"
   ]
  },
  {
   "cell_type": "code",
   "execution_count": 53,
   "metadata": {
    "collapsed": false
   },
   "outputs": [
    {
     "name": "stdout",
     "output_type": "stream",
     "text": [
      "(1, '00034ba766f8721f43999bbfa341969fac85fdfe', (7.68052371269871, 13.373539129403458, 13.4357599791361, 11.873114228208758))\n",
      "(0, '00036d496f906107c2943b2f38fa9a65888c0e5f', (7.876824723013971, 11.058606190644545, 11.955352326445729, 9.534161491043838))\n",
      "(1, '00141e38f00072e8854a8aeec7028456e54eb341', (6.231757935069372, 13.521774195227245, 13.52177285379614, 13.285841846396803))\n",
      "(1, '0019d715f0f3ab076ba01946ab33b510d697a204', (7.584560175787936, 13.474236410601565, 13.527252319560764, 11.88023169597762))\n",
      "(1, '001bebfb7878aa60c9c261827b0fcfb1ef5d9350', (7.717577042468502, 13.439064300524795, 13.52177285379614, 11.88023169597762))\n",
      "(1, '001c5920be0447c52c77b5673121f91167dae3e0', (6.617887953319812, 13.42143632678279, 13.499549717011428, 13.282357522314193))\n",
      "(1, '00223d97e49c15dfe6d2bb41bc49cc27eae0e9da', (6.393731345235996, 13.046691105448327, 13.0799401015171, 12.56268358742082))\n",
      "(0, '0025b66c923168bf934d6ea74f64cd68511cfc18', (7.756242400554864, 12.18887053395999, 12.828625673236195, 10.298767635585927))\n",
      "(1, '002f2ea80a675231c4392c5b338a9710d4463b7b', (7.662417152917127, 13.458995601226906, 13.505151972560098, 11.88023169597762))\n",
      "(1, '003dce457da9125e95f71d6df3b7224183228ce6', (6.384455418634246, 13.041829882647846, 13.0799401015171, 12.56268358742082))\n"
     ]
    }
   ],
   "source": [
    "km = KMeans(n_clusters=3).fit(feats)\n",
    "for i in range(10): print(km.labels_[i], lbs[i], feats[i])"
   ]
  },
  {
   "cell_type": "code",
   "execution_count": 55,
   "metadata": {
    "collapsed": false
   },
   "outputs": [
    {
     "name": "stdout",
     "output_type": "stream",
     "text": [
      "('00034ba766f8721f43999bbfa341969fac85fdfe', 1)\n",
      "('0025b66c923168bf934d6ea74f64cd68511cfc18', 0)\n",
      "('004950b412188d2e53d2b3b5ae965faf6e9f45ee', 0)\n",
      "('00d71709950d1a97c1faa8dee2e5d98bde4db3ec', 1)\n",
      "('02985f4076d6e4b4b4fdf0141c7171e887377f1b', 1)\n",
      "('02e81a7cb55a956ef6b1499d4d3d56d4fbd2e818', 2)\n",
      "('03214459440feff531bd3187ca981a104de9c137', 0)\n"
     ]
    }
   ],
   "source": [
    "target_data=['A. 00034ba766f8721f43999bbfa341969fac85fdfe',\n",
    "    'B. 0025b66c923168bf934d6ea74f64cd68511cfc18',\n",
    "    'C. 004950b412188d2e53d2b3b5ae965faf6e9f45ee',\n",
    "    'D. 00d71709950d1a97c1faa8dee2e5d98bde4db3ec',\n",
    "    'E. 02985f4076d6e4b4b4fdf0141c7171e887377f1b',\n",
    "    'F. 02e81a7cb55a956ef6b1499d4d3d56d4fbd2e818',\n",
    "    'G. 03214459440feff531bd3187ca981a104de9c137'\n",
    "]\n",
    "group_dict={}\n",
    "for f in target_data:\n",
    "    i=lbs.index(f.split()[1])\n",
    "    print(lbs[i], km.labels_[i])\n",
    "    group_dict[km.labels_[i]]=f"
   ]
  },
  {
   "cell_type": "code",
   "execution_count": 57,
   "metadata": {
    "collapsed": false
   },
   "outputs": [
    {
     "name": "stdout",
     "output_type": "stream",
     "text": [
      "(1, 'E. 02985f4076d6e4b4b4fdf0141c7171e887377f1b', '1. 00724a6fa856016f98006346f65edf308753e341')\n",
      "(1, 'E. 02985f4076d6e4b4b4fdf0141c7171e887377f1b', '2. 0076ad9b2c2c30912a1a045b9233c3fd1c113dcb')\n",
      "(1, 'E. 02985f4076d6e4b4b4fdf0141c7171e887377f1b', '3. 007e9931c4662b6a772f14ebb2bb9235d6145f8a')\n",
      "(1, 'E. 02985f4076d6e4b4b4fdf0141c7171e887377f1b', '4. 00989035116f2d6beedee8e0a7e9192cfbbd4cb8')\n",
      "(2, 'F. 02e81a7cb55a956ef6b1499d4d3d56d4fbd2e818', '5. 00ac1a2eb8cfee4e3d36190309768154bba0c922')\n",
      "(1, 'E. 02985f4076d6e4b4b4fdf0141c7171e887377f1b', '6. 00adec6a2cae04d4775cdf43d46652f123b9b502')\n",
      "(0, 'G. 03214459440feff531bd3187ca981a104de9c137', '7. 00ce2ff9017c270a6bca471f34ebcba12c9eab36')\n",
      "(1, 'E. 02985f4076d6e4b4b4fdf0141c7171e887377f1b', '8. 00df5b9333954b4f4beaa8be4dc7374c0af4caf2')\n",
      "(0, 'G. 03214459440feff531bd3187ca981a104de9c137', '9. 00e2453df8783bf0fe5c3df9dc51f66762e7d506')\n",
      "(1, 'E. 02985f4076d6e4b4b4fdf0141c7171e887377f1b', '10. 00f1976d108daf1400bc103474adf7cf1ee80fba')\n",
      "(1, 'E. 02985f4076d6e4b4b4fdf0141c7171e887377f1b', '11. 00fa0d47c35ae7baa5510cd4786d94d30ff4f6fa')\n",
      "(0, 'G. 03214459440feff531bd3187ca981a104de9c137', '12. 02f53dccaa67d3e5144a6af659840a15b61e3e1b')\n"
     ]
    }
   ],
   "source": [
    "test_data=['1. 00724a6fa856016f98006346f65edf308753e341',\n",
    "    '2. 0076ad9b2c2c30912a1a045b9233c3fd1c113dcb',\n",
    "    '3. 007e9931c4662b6a772f14ebb2bb9235d6145f8a',\n",
    "    '4. 00989035116f2d6beedee8e0a7e9192cfbbd4cb8',\n",
    "    '5. 00ac1a2eb8cfee4e3d36190309768154bba0c922',\n",
    "    '6. 00adec6a2cae04d4775cdf43d46652f123b9b502',\n",
    "    '7. 00ce2ff9017c270a6bca471f34ebcba12c9eab36',\n",
    "    '8. 00df5b9333954b4f4beaa8be4dc7374c0af4caf2',\n",
    "    '9. 00e2453df8783bf0fe5c3df9dc51f66762e7d506',\n",
    "    '10. 00f1976d108daf1400bc103474adf7cf1ee80fba',\n",
    "    '11. 00fa0d47c35ae7baa5510cd4786d94d30ff4f6fa',\n",
    "    '12. 02f53dccaa67d3e5144a6af659840a15b61e3e1b'\n",
    "]\n",
    "for f in test_data:\n",
    "    i=lbs.index(f.split()[1])\n",
    "    l=km.labels_[i]\n",
    "    print(l, group_dict[l], f)"
   ]
  },
  {
   "cell_type": "code",
   "execution_count": 58,
   "metadata": {
    "collapsed": false
   },
   "outputs": [
    {
     "data": {
      "image/png": "[encoded data removed]",
      "text/plain": [
       "<matplotlib.figure.Figure at 0x1185c37d0>"
      ]
     },
     "metadata": {},
     "output_type": "display_data"
    }
   ],
   "source": [
    "COLORS=['r','g','b']\n",
    "from sklearn import decomposition\n",
    "pca = decomposition.PCA(n_components=2)\n",
    "pca = pca.fit(feats)\n",
    "X = pca.transform(feats)\n",
    "#plt.scatter(X[:,0], X[:,1])\n",
    "for i in range(len(km.labels_)): \n",
    "    plt.scatter(X[i,0], X[i,1], c=COLORS[km.labels_[i]])\n"
   ]
  },
  {
   "cell_type": "code",
   "execution_count": 62,
   "metadata": {
    "collapsed": false
   },
   "outputs": [
    {
     "data": {
      "text/plain": [
       "array([[ 0.68388151, -0.89500803],\n",
       "       [-2.8653054 , -0.58137129],\n",
       "       [ 1.99202855,  0.63802218],\n",
       "       ..., \n",
       "       [-4.25029039,  2.83746211],\n",
       "       [ 0.68387936, -0.89502908],\n",
       "       [-1.18933029,  1.17653269]])"
      ]
     },
     "execution_count": 62,
     "metadata": {},
     "output_type": "execute_result"
    }
   ],
   "source": [
    "X"
   ]
  },
  {
   "cell_type": "code",
   "execution_count": null,
   "metadata": {
    "collapsed": true
   },
   "outputs": [],
   "source": []
  },
  {
   "cell_type": "code",
   "execution_count": null,
   "metadata": {
    "collapsed": true
   },
   "outputs": [],
   "source": []
  },
  {
   "cell_type": "code",
   "execution_count": null,
   "metadata": {
    "collapsed": true
   },
   "outputs": [],
   "source": []
  },
  {
   "cell_type": "code",
   "execution_count": null,
   "metadata": {
    "collapsed": true
   },
   "outputs": [],
   "source": []
  },
  {
   "cell_type": "code",
   "execution_count": 64,
   "metadata": {
    "collapsed": false
   },
   "outputs": [
    {
     "name": "stdout",
     "output_type": "stream",
     "text": [
      "['test.csv', 'train.csv']\n"
     ]
    }
   ],
   "source": [
    "zf = zipfile.ZipFile('TrendMicro-BEC-dataset-pycon.zip', 'r')\n",
    "print(zf.namelist())"
   ]
  },
  {
   "cell_type": "code",
   "execution_count": 65,
   "metadata": {
    "collapsed": false
   },
   "outputs": [
    {
     "name": "stdout",
     "output_type": "stream",
     "text": [
      "   Unnamed: 0                                            content  uid\n",
      "0           0  \\r\\nJeff, I understand you've been getting pri...    0\n",
      "1           1  \\r\\nSorry for the delay in getting back to you...    0\n",
      "2           2  \\r\\ndon't forget to call mcmahon and give him ...    0\n",
      "3           3  \\r\\nHear Ye, Hear Ye,\\nCongratulations, Carole...    0\n",
      "4           4  \\r\\nCome on.  You should come to the tuesday t...    0\n"
     ]
    }
   ],
   "source": [
    "train_data=pd.read_csv(zf.open('train.csv'))\n",
    "print(train_data.head(5))"
   ]
  },
  {
   "cell_type": "code",
   "execution_count": 66,
   "metadata": {
    "collapsed": false
   },
   "outputs": [
    {
     "name": "stdout",
     "output_type": "stream",
     "text": [
      "[0, 0, 0]\n",
      "[\"\\r\\nJeff, I understand you've been getting pricing from our crude/diesel traders \\nfor some of your transportation work.  Please do not go directly to the \\ntraders, rather the structuring desk.  Also, please coordinate your activites \\nwith Dan Reck who is running Enron Freight, dealing with all trucking and \\nrail issues.  We are acquiring a company that has relationships with many of \\nthe customers you've pitched.  In most cases, we have been covering many of \\nthese customers from the energy side already.\\n\\nThanks for your cooperation\\n\\nJeff\", '\\r\\nSorry for the delay in getting back to you about my friend saar at goldman \\nsachs.  he recently moved departments, and I will get you relevant data \\nshortly.  \\n\\nregards.\\n Jeff', \"\\r\\ndon't forget to call mcmahon and give him a little grief.  Ray told me this \\nwas all Jeff M.'s doing.\"]\n"
     ]
    }
   ],
   "source": [
    "Y=list(train_data.ix[:, 2])\n",
    "content = list(train_data.ix[:, 1])\n",
    "print(Y[:3])\n",
    "print(content[:3])"
   ]
  },
  {
   "cell_type": "code",
   "execution_count": 69,
   "metadata": {
    "collapsed": false
   },
   "outputs": [
    {
     "name": "stdout",
     "output_type": "stream",
     "text": [
      "<class 'scipy.sparse.csr.csr_matrix'>\n"
     ]
    }
   ],
   "source": [
    "tfidf_vectorizer = CountVectorizer()\n",
    "tfidf = tfidf_vectorizer.fit_transform(content)\n",
    "print(type(tfidf))"
   ]
  },
  {
   "cell_type": "code",
   "execution_count": 72,
   "metadata": {
    "collapsed": false
   },
   "outputs": [
    {
     "name": "stdout",
     "output_type": "stream",
     "text": [
      "0.99625\n"
     ]
    }
   ],
   "source": [
    "clf = LogisticRegression()\n",
    "clf = clf.fit(tfidf, Y)\n",
    "print(clf.score(tfidf,Y))"
   ]
  },
  {
   "cell_type": "code",
   "execution_count": 73,
   "metadata": {
    "collapsed": false
   },
   "outputs": [
    {
     "name": "stdout",
     "output_type": "stream",
     "text": [
      "       sender                                            content\n",
      "0  anonymous1  \\r\\nGuys, we are working to put together the f...\n",
      "1  anonymous2  \\r\\nI always have time for lunch!  I will ask ...\n",
      "2  anonymous3  \\r\\nBrent & Peggy,\\n\\nMemo complete with excep...\n",
      "3  anonymous4  \\r\\nEric, we need more than $2M saving to get ...\n",
      "4  anonymous5        \\r\\nThis is great Rob!\\n\\nRegards\\nDelainey\n",
      "5  anonymous6  \\r\\nLC wrap\\n\\nI need this for Tuesday/Wednesd...\n",
      "6  anonymous7  \\r\\nHi Thor, \\n\\nSorry you won't make our offs...\n",
      "7  anonymous8  \\r\\nWe recognize that we are experiencing a di...\n"
     ]
    }
   ],
   "source": [
    "test_data=pd.read_csv(zf.open('test.csv'))\n",
    "print(test_data)"
   ]
  },
  {
   "cell_type": "code",
   "execution_count": 74,
   "metadata": {
    "collapsed": false
   },
   "outputs": [
    {
     "name": "stdout",
     "output_type": "stream",
     "text": [
      "('anonymous1', 1)\n",
      "('anonymous2', 2)\n",
      "('anonymous3', 2)\n",
      "('anonymous4', 1)\n",
      "('anonymous5', 1)\n",
      "('anonymous6', 0)\n",
      "('anonymous7', 0)\n",
      "('anonymous8', 3)\n"
     ]
    }
   ],
   "source": [
    "content=list(test_data.ix[:, 1])\n",
    "tfidf = tfidf_vectorizer.transform(content)\n",
    "for i, p in enumerate(clf.predict(tfidf)):\n",
    "    print(test_data.iloc[i,0], p)"
   ]
  },
  {
   "cell_type": "code",
   "execution_count": null,
   "metadata": {
    "collapsed": true
   },
   "outputs": [],
   "source": []
  }
 ],
 "metadata": {
  "kernelspec": {
   "display_name": "Python 2",
   "language": "python",
   "name": "python2"
  },
  "language_info": {
   "codemirror_mode": {
    "name": "ipython",
    "version": 2
   },
   "file_extension": ".py",
   "mimetype": "text/x-python",
   "name": "python",
   "nbconvert_exporter": "python",
   "pygments_lexer": "ipython2",
   "version": "2.7.11"
  }
 },
 "nbformat": 4,
 "nbformat_minor": 0
}
